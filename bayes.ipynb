{
  "nbformat": 4,
  "nbformat_minor": 0,
  "metadata": {
    "colab": {
      "name": "Untitled2.ipynb",
      "provenance": [],
      "toc_visible": true,
      "authorship_tag": "ABX9TyPTHo6/zLMUBIm0qIghkZnw",
      "include_colab_link": true
    },
    "kernelspec": {
      "name": "python3",
      "display_name": "Python 3"
    }
  },
  "cells": [
    {
      "cell_type": "markdown",
      "metadata": {
        "id": "view-in-github",
        "colab_type": "text"
      },
      "source": [
        "<a href=\"https://colab.research.google.com/github/mustafatmz/ayrik-sistemler-icin-ileri-olasilik/blob/master/bayes.ipynb\" target=\"_parent\"><img src=\"https://colab.research.google.com/assets/colab-badge.svg\" alt=\"Open In Colab\"/></a>"
      ]
    },
    {
      "cell_type": "markdown",
      "metadata": {
        "id": "197VKUU3YzGd",
        "colab_type": "text"
      },
      "source": [
        "## BAYES TEOREMİ\n",
        "\n",
        "####Soru:\n",
        "Bir pazarda domates satan 3 tane pazarcı bulunmaktadır. Bu pazarcılar içerisinde toplam domates miktarının %20'sini Ali, %30'unu Mehmet, %50'sini ise Hasan satmaktadır. Ali, Mehmet ve Hasan'ın domatesleri sırası ile %5, %10 ve %20 çürük çıkmaktadır. Ayşe Teyze eve gittiğinde aldığı domateslerden birinin çürük olduğunu farkeder. Bu domatesin Mehmet'ten alınmış olma ihtimali nedir?\n",
        "\n",
        "####Çözüm:\n",
        "Pazarda satılan domatesler:\n",
        "\n",
        "\n",
        "*   Ali: %20 **=>** P(A) = 0.20\n",
        "*   Mehmet: %30 **=>** P(M) = 0.30\n",
        "*   Hasan: %50 **=>** P(H) = 0.50\n",
        "\n",
        "Çürük çıkma olasılıkları:\n",
        "\n",
        "\n",
        "*   Ali: %5 **=>** P(F|A) = 0.05\n",
        "*   Mehmet: %10 **=>** P(F|M) = 0.10\n",
        "*   Hasan: %20 **=>** P(F|H) = 0.20\n",
        "\n",
        "Çürük çıkan bir domatesin Mehmet'ten alınmış olma olasılığı:\n",
        "\n",
        "P(M|F) = P(M)P(F|M) / (P(A)P(B|A) + P(M)P(F|M) + P(H)P(F|H))\n",
        "\n",
        "P(M|F) = (0.30*0.10) / (0.20 * 0.05 + 0.30 * 0.10 + 0.50 * 0.20)\n",
        "\n",
        "P(M|F) = 0.21428571428\n",
        "\n",
        "\n",
        "\n"
      ]
    },
    {
      "cell_type": "code",
      "metadata": {
        "id": "crXm8QFVCOT8",
        "colab_type": "code",
        "colab": {
          "base_uri": "https://localhost:8080/",
          "height": 34
        },
        "outputId": "5dd3ad66-40a0-45cd-ffb9-4f6fa683be0d"
      },
      "source": [
        "t_Ali = 0.2     #P(A)\n",
        "t_Mehmet = 0.3      #P(M)\n",
        "t_Hasan = 0.5     #P(H)\n",
        "\n",
        "f_Ali = 0.05      #P(F|A)\n",
        "f_Mehmet = 0.10     #P(F|M)\n",
        "f_Hasan = 0.20      #P(F|H)\n",
        "\n",
        "#P(M|F) = P(M)P(F|M) / (P(A)P(B|A) + P(M)P(F|M) + P(H)P(F|H))\n",
        "\n",
        "olasilik_Mehmet = (t_Mehmet*f_Mehmet) / (t_Ali*f_Ali + t_Mehmet*f_Mehmet + t_Hasan*f_Hasan)      #P(M|F)\n",
        "print(\"Domatesin Mehmet'ten alınmış olma olasılığı: \",olasilik_Mehmet)"
      ],
      "execution_count": 4,
      "outputs": [
        {
          "output_type": "stream",
          "text": [
            "Domatesin Mehmet'ten alınmış olma olasılığı:  0.21428571428571425\n"
          ],
          "name": "stdout"
        }
      ]
    }
  ]
}