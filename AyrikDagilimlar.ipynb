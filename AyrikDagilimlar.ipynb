{
  "nbformat": 4,
  "nbformat_minor": 0,
  "metadata": {
    "colab": {
      "name": "Untitled3.ipynb",
      "provenance": [],
      "collapsed_sections": [],
      "authorship_tag": "ABX9TyPoU3P5aLoZx8PEaZMY5yJX",
      "include_colab_link": true
    },
    "kernelspec": {
      "name": "python3",
      "display_name": "Python 3"
    }
  },
  "cells": [
    {
      "cell_type": "markdown",
      "metadata": {
        "id": "view-in-github",
        "colab_type": "text"
      },
      "source": [
        "<a href=\"https://colab.research.google.com/github/mustafatmz/ayrik-sistemler-icin-ileri-olasilik/blob/master/AyrikDagilimlar.ipynb\" target=\"_parent\"><img src=\"https://colab.research.google.com/assets/colab-badge.svg\" alt=\"Open In Colab\"/></a>"
      ]
    },
    {
      "cell_type": "markdown",
      "metadata": {
        "id": "aeEu-bhfKmRC",
        "colab_type": "text"
      },
      "source": [
        "# Binomial Dağılım\n",
        "\n",
        "**Soru:** Bir uygulama üzerinden rulet oynayan bir kişi, her seferinde belirli bir miktar parayı **0** rakamına koyuyor. Bu kişi 10 kez üst üste oynadıktan sonra bu 10 elin 2 tanesinde eli kazanmış olma ihtimali nedir?\n",
        "\n",
        "**Çözüm:** Rulet oyununda masada 37 adet sayı bulunmaktadır.\n",
        "\n",
        "![alt text](http://lh3.googleusercontent.com/proxy/i3ibpvf3D5eOSGME3np7KbsD3mtwoE9lw9Tgmm7t9Q1UuYq4J8nbM_MdVDL3ajwatPfiWLcBsDRbd_I61crEKRA6TYk8-klDU0acb4JmDSuzcbTpGUj_RSOSB50F55vduD7lUTXAJHIUd8vECTc53Q)\n",
        "\n",
        "Binom Dağılımı Formülü: ![image.png](data:image/png;base64,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)\n",
        "\n",
        "El sonu **0** gelme olasılığı = **p** = 1/37 = 0.027\n",
        "\n",
        "Oynanacak el sayısı = **n** = 10\n",
        "\n",
        "Kazanılmak istenen el sayısı = **k** = 2\n",
        "\n",
        "Olasılık = ![image.png](data:image/png;base64,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)"
      ]
    },
    {
      "cell_type": "code",
      "metadata": {
        "id": "xNRZEEVxcJrm",
        "colab_type": "code",
        "colab": {
          "base_uri": "https://localhost:8080/",
          "height": 34
        },
        "outputId": "d9fc19ed-925c-4831-fcbd-ac1708739296"
      },
      "source": [
        "p = 0.027\n",
        "n = 10\n",
        "k = 2\n",
        "\n",
        "def faktoriyel(i):\n",
        "    if i==1:       \n",
        "        return 1\n",
        "    else: \n",
        "        return i * faktoriyel(i-1)\n",
        "\n",
        "def kombinasyon(a,b): #kombinasyon hesabı için kullanılan fonksiyon\n",
        "        c=1\n",
        "        c= faktoriyel(a)\n",
        "        \n",
        "        d=1\n",
        "        d= faktoriyel(b)\n",
        "        \n",
        "        e=1\n",
        "        e= faktoriyel(a-b)\n",
        "        \n",
        "        sonuc=c/(d*e)\n",
        "        return sonuc\n",
        "\n",
        "def binom(p,n,k):\n",
        "  return kombinasyon(n,k)*(p**k)*((1-p)**(n-k))\n",
        "\n",
        "print('Kişinin oynadığı 10 el içerisinden rastgele 2 tanesini kazanmış olma ihtimali: ', binom(p,n,k))"
      ],
      "execution_count": 6,
      "outputs": [
        {
          "output_type": "stream",
          "text": [
            "Kişinin oynadığı 10 el içerisinden rastgele 2 tanesini kazanmış olma ihtimali:  0.026353770781935536\n"
          ],
          "name": "stdout"
        }
      ]
    },
    {
      "cell_type": "markdown",
      "metadata": {
        "id": "BNfv353SfmKN",
        "colab_type": "text"
      },
      "source": [
        "# Poisson Dağılımı\n",
        "\n",
        "**Soru:** Bir kuaför dükkanına günde ortalama 20 müşteri gelmektedir. Bir sonraki iş gününde 18 müşteri gelme olasılığı nedir?\n",
        "\n",
        "**Çözüm:**\n",
        "\n",
        "![image.png](data:image/png;base64,iVBORw0KGgoAAAANSUhEUgAAAHwAAAAjCAYAAABWxm6cAAAESklEQVR4Ae1brUs8QRi+JIJFm+XEIojRZDQIWgQFgzbxH1Asarp48eJhsFiMRqNBBE0Gg02xKFjEIAbD/Hj2x7O8zs3MftzO7rrOgezs7Mz79cz7MbNrS4Xfn7JA609pG5RVAfAaL4Lv72+1urqqxsbG1Nvbm1NSjp2fn1efn5/WsQFwq2mqf3Bzc6Nub2/V0dFRdE2S6PHxUe3s7DiHBcCd5qnHw7SAX11dqbOzM4Vrq9VSnU5nQIEA+IBJ6tUB8EZGRgY8/OTkZABULgzMMYENzQLgFeJLT4Q38k/ma4TopaUl1e/3fwD+9fWljo+PlQzhzOGgs7a2ZtUqAG41TbUPAODGxkYE9Onp6Q/AKRmA393djW7RXl9fV/f399Ei+fj4UE9PTxwaXwPgsSn8N/b392NPRq51/TCWnsrwrc+RYxAtMJ6ebkoD4BcAd1m9oGcEgYABKLbzsgDAy8vLsYenpVMK4BcXF2nlKXXc3d2den9/984TuXZiYiL2bnpuXsag12631fPzc70Ah0FXVlZUr9fLq5vXeZAPxvctH8MtlIG3b21tJR6k2BSX0ULmcNt4vd+bh6NgmJ2dVQ8PDzFPCotKktWoXP22rURMIEcDRpmamjJubUgOoKMS9vWjDNDbllvT8pZ5m3Sz0EwNOBhx6yABswm6vb1t9BwCLHOYVMJGb5h+eJjryBFhfXx8XL2+vg7D5lfMzQS49EBUjvRSXVMYcHR01GpAWbQkgaHTznMPWZPy5ubmpjo8PMxD/lfNyQ04w4n0VGp+fn6upqeneTtwJcjcM7oO+wcm5+iQC4xbHH0BIKQvLCzkoP67puQGHKF5cnLSeCCAImhxcdFqCS4WW4SQE2XelylFtl05DLxmZmZiOQG4jFTkhYXrWqTDykE+VV9zAw6vseVFGNQFODwcgOle5sMY3MLg9SJkNoENvpeXl5FMPmSQi7Pstq5PJsClsDawwcDl4QQAr/6wl0x6z6sLnPWeIRyyuyJKkodn5VvX8ZkAt3mHrpwth8vwyhBpqgEkPY6Ti01vu0I6vdqVgsAvKYcPK4fUqcq2F8CxvdGrdBpMAuxKC0UYhbUCeJI/Fi1Sir54UaXv7e0VwbbWNLwADo1hQJ5g0fDwTBoaHsfjRvYVbSmmD6YNhne9dkjaRhYtV5X0UgOeVUictKHqlSdtWWmUNR4LwNeiK0uHtHy8AQ4BeJbu89gyraKmcTxL73a7pseV9CHNmWoSRMm5ubmhi1yvgNNi2PLU8QfAy3hblkV3G7CoQQ4ODpxfpKbhUwrgaQQJY/5bAHUHvjxlkYm6h0VnALyBq4QngQCcnzhBzeDhDQQbKiGHw6tNebwIlUNIL8KKBdFA/sa5//X1dfQfJ9g5vLy8RHnbltuzsg6AZ7WYx/HI3/gsGW8P+b6BR9gBcI+GbzLp4OFNRtegWwDcYJQmdwXAm4yuQbcAuMEoTe76B3rqrMVdWiLxAAAAAElFTkSuQmCC)\n",
        "\n",
        "E[X] = λ\n",
        "\n",
        "Var(X) = λ\n",
        "\n",
        "E[X] = λ = 20\n",
        "\n",
        "k = 18\n",
        "\n",
        "![image.png](data:image/png;base64,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)"
      ]
    },
    {
      "cell_type": "code",
      "metadata": {
        "id": "jJ1YUxG_uDPw",
        "colab_type": "code",
        "colab": {
          "base_uri": "https://localhost:8080/",
          "height": 34
        },
        "outputId": "f0146e13-e785-4973-a2ce-deea4ccfbe8e"
      },
      "source": [
        "import math\n",
        "\n",
        "lamb_da = 20\n",
        "k = 18\n",
        "\n",
        "def faktoriyel(i):\n",
        "  if i==1:       \n",
        "      return 1\n",
        "  else: \n",
        "      return i * faktoriyel(i-1)\n",
        "\n",
        "def poisson(lamb,k):\n",
        "  return math.exp(-lamb)*(lamb**k)/faktoriyel(k)\n",
        "\n",
        "print('Bir sonraki iş gününde 18 müşteri gelme olasılığı:' , poisson(lamb_da,k))"
      ],
      "execution_count": 17,
      "outputs": [
        {
          "output_type": "stream",
          "text": [
            "Bir sonraki iş gününde 18 müşteri gelme olasılığı: 0.08439355152248096\n"
          ],
          "name": "stdout"
        }
      ]
    }
  ]
}
