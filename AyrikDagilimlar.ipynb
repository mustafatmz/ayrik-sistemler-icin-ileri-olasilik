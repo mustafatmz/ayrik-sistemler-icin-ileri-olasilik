{
  "nbformat": 4,
  "nbformat_minor": 0,
  "metadata": {
    "colab": {
      "name": "Untitled3.ipynb",
      "provenance": [],
      "collapsed_sections": [],
      "authorship_tag": "ABX9TyNNO7z+H1flLPmFdYtgL1np",
      "include_colab_link": true
    },
    "kernelspec": {
      "name": "python3",
      "display_name": "Python 3"
    }
  },
  "cells": [
    {
      "cell_type": "markdown",
      "metadata": {
        "id": "view-in-github",
        "colab_type": "text"
      },
      "source": [
        "<a href=\"https://colab.research.google.com/github/mustafatmz/ayrik-sistemler-icin-ileri-olasilik/blob/master/AyrikDagilimlar.ipynb\" target=\"_parent\"><img src=\"https://colab.research.google.com/assets/colab-badge.svg\" alt=\"Open In Colab\"/></a>"
      ]
    },
    {
      "cell_type": "markdown",
      "metadata": {
        "id": "aeEu-bhfKmRC",
        "colab_type": "text"
      },
      "source": [
        "# Binomial Dağılım\n",
        "\n",
        "**Soru:** Bir uygulama üzerinden rulet oynayan bir kişi, her seferinde belirli bir miktar parayı **0** rakamına koyuyor. Bu kişi 10 kez üst üste oynadıktan sonra bu 10 elin 2 tanesinde eli kazanmış olma ihtimali nedir?\n",
        "\n",
        "**Çözüm:** Rulet oyununda masada 37 adet sayı bulunmaktadır.\n",
        "\n",
        "![alt text](https://lh3.googleusercontent.com/proxy/i3ibpvf3D5eOSGME3np7KbsD3mtwoE9lw9Tgmm7t9Q1UuYq4J8nbM_MdVDL3ajwatPfiWLcBsDRbd_I61crEKRA6TYk8-klDU0acb4JmDSuzcbTpGUj_RSOSB50F55vduD7lUTXAJHIUd8vECTc53Q)\n",
        "\n",
        "\n",
        ">$P(X = k) = {n \\choose k} p^k(1-p)^{n-k}$\n",
        "\n",
        "\n",
        "El sonu **0** gelme olasılığı = **p** = 1/37 = 0.027\n",
        "\n",
        "Oynanacak el sayısı = **n** = 10\n",
        "\n",
        "Kazanılmak istenen el sayısı = **k** = 2\n",
        "\n",
        "Olasılık = \n",
        "$P(X = 2) = {10 \\choose 2} (0.027)^2(1-0.027)^{10-2} = 0.02635$"
      ]
    },
    {
      "cell_type": "code",
      "metadata": {
        "id": "xNRZEEVxcJrm",
        "colab_type": "code",
        "colab": {
          "base_uri": "https://localhost:8080/",
          "height": 34
        },
        "outputId": "d9fc19ed-925c-4831-fcbd-ac1708739296"
      },
      "source": [
        "p = 0.027\n",
        "n = 10\n",
        "k = 2\n",
        "\n",
        "def faktoriyel(i):\n",
        "    if i==1:       \n",
        "        return 1\n",
        "    else: \n",
        "        return i * faktoriyel(i-1)\n",
        "\n",
        "def kombinasyon(a,b): #kombinasyon hesabı için kullanılan fonksiyon\n",
        "        c=1\n",
        "        c= faktoriyel(a)\n",
        "        \n",
        "        d=1\n",
        "        d= faktoriyel(b)\n",
        "        \n",
        "        e=1\n",
        "        e= faktoriyel(a-b)\n",
        "        \n",
        "        sonuc=c/(d*e)\n",
        "        return sonuc\n",
        "\n",
        "def binom(p,n,k):\n",
        "  return kombinasyon(n,k)*(p**k)*((1-p)**(n-k))\n",
        "\n",
        "print('Kişinin oynadığı 10 el içerisinden rastgele 2 tanesini kazanmış olma ihtimali: ', binom(p,n,k))"
      ],
      "execution_count": 6,
      "outputs": [
        {
          "output_type": "stream",
          "text": [
            "Kişinin oynadığı 10 el içerisinden rastgele 2 tanesini kazanmış olma ihtimali:  0.026353770781935536\n"
          ],
          "name": "stdout"
        }
      ]
    },
    {
      "cell_type": "markdown",
      "metadata": {
        "id": "BNfv353SfmKN",
        "colab_type": "text"
      },
      "source": [
        "# Poisson Dağılımı\n",
        "\n",
        "**Soru:** Bir kuaför dükkanına günde ortalama 20 müşteri gelmektedir. Bir sonraki iş gününde 18 müşteri gelme olasılığı nedir?\n",
        "\n",
        "**Çözüm:**\n",
        "\n",
        ">$P(X = k) = \\frac{e^{\\lambda}\\lambda^k}{k!}$\n",
        "\n",
        ">E[X] = λ\n",
        "\n",
        ">Var(X) = λ\n",
        "\n",
        ">E[X] = λ = 20\n",
        "\n",
        ">k = 18\n",
        "\n",
        ">$P(X = 18) = \\frac{e^{-20}(20)^{18}}{18!} = 0.084$"
      ]
    },
    {
      "cell_type": "code",
      "metadata": {
        "id": "jJ1YUxG_uDPw",
        "colab_type": "code",
        "colab": {
          "base_uri": "https://localhost:8080/",
          "height": 34
        },
        "outputId": "f0146e13-e785-4973-a2ce-deea4ccfbe8e"
      },
      "source": [
        "import math\n",
        "\n",
        "lamb_da = 20\n",
        "k = 18\n",
        "\n",
        "def faktoriyel(i):\n",
        "  if i==1:       \n",
        "      return 1\n",
        "  else: \n",
        "      return i * faktoriyel(i-1)\n",
        "\n",
        "def poisson(lamb,k):\n",
        "  return math.exp(-lamb)*(lamb**k)/faktoriyel(k)\n",
        "\n",
        "print('Bir sonraki iş gününde 18 müşteri gelme olasılığı:' , poisson(lamb_da,k))"
      ],
      "execution_count": 17,
      "outputs": [
        {
          "output_type": "stream",
          "text": [
            "Bir sonraki iş gününde 18 müşteri gelme olasılığı: 0.08439355152248096\n"
          ],
          "name": "stdout"
        }
      ]
    }
  ]
}