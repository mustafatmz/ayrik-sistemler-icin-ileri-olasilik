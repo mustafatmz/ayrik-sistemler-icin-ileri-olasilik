{
  "nbformat": 4,
  "nbformat_minor": 0,
  "metadata": {
    "colab": {
      "name": "Untitled1.ipynb",
      "provenance": [],
      "authorship_tag": "ABX9TyN7Tm3XF213kned+s5/Knqq",
      "include_colab_link": true
    },
    "kernelspec": {
      "name": "python3",
      "display_name": "Python 3"
    }
  },
  "cells": [
    {
      "cell_type": "markdown",
      "metadata": {
        "id": "view-in-github",
        "colab_type": "text"
      },
      "source": [
        "<a href=\"https://colab.research.google.com/github/mustafatmz/ayrik-sistemler-icin-ileri-olasilik/blob/master/Karsilasma.ipynb\" target=\"_parent\"><img src=\"https://colab.research.google.com/assets/colab-badge.svg\" alt=\"Open In Colab\"/></a>"
      ]
    },
    {
      "cell_type": "markdown",
      "metadata": {
        "id": "T1Fm6HnCLkAY",
        "colab_type": "text"
      },
      "source": [
        ""
      ]
    },
    {
      "cell_type": "markdown",
      "metadata": {
        "id": "Bdxk2r9XLlO_",
        "colab_type": "text"
      },
      "source": [
        "# **Karşılaşma Problemi**\n",
        "\n",
        "\n",
        "**Soru**\n",
        "\n",
        "Pazardan 600g domates alacak olan Ayşe Teyze'ye pazarcı tarafından 70 tanesi çürük olan 100 domates içerisinden 5 tanesi rastgele veriliyor. Ayşe Teyze'ye verilen domateslerin hepsinin sağlam olma olasılığı nedir?\n",
        "\n",
        "**Çözüm**\n",
        "\n",
        "Bu durumda \n",
        "\n",
        "p(toplam domates sayısı) = 100\n",
        "\n",
        "s(alınan domates sayısı) = 5\n",
        "\n",
        "f(sağlam domates sayısı) = 30\n",
        "\n",
        "P(sağlam) = *1-(C(p-f,s)/C(p,s))* => En az 1 çürük seçme olasılığını 1'den çıkararak sağlam seçme olasılığını buluruz.\n",
        "\n",
        "C(p,s) = *C(100,5)* => Örnek Uzay => Tüm domateslerden alınacak domateslerin seçilmesi\n",
        "\n",
        "C(p-f,s) = C(100-70,5) = *C(30,5)* => Olay Uzayı => Çürük domateslerden alınacak domateslerin seçilmesi\n"
      ]
    },
    {
      "cell_type": "code",
      "metadata": {
        "id": "uEiQ_-HNRXpx",
        "colab_type": "code",
        "colab": {
          "base_uri": "https://localhost:8080/",
          "height": 102
        },
        "outputId": "66843b7b-a79d-4cd2-9fd1-a0c7fa5b1133"
      },
      "source": [
        "def faktoriyel(i):\n",
        "    if i==1:       \n",
        "        return 1\n",
        "    else: \n",
        "        return i * faktoriyel(i-1)\n",
        "    \n",
        "def kombinasyon(a,b): #kombinasyon hesabı için kullanılan fonksiyon\n",
        "        c=1\n",
        "        c= faktoriyel(a)\n",
        "        \n",
        "        d=1\n",
        "        d= faktoriyel(b)\n",
        "        \n",
        "        e=1\n",
        "        e= faktoriyel(a-b)\n",
        "        \n",
        "        sonuc=c/(d*e)\n",
        "        return sonuc\n",
        "\n",
        "ornekUzay = kombinasyon(100,5)\n",
        "print(\"C(p,s) => C(100,5) => Örnek Uzay:\",ornekUzay)\n",
        "\n",
        "olayUzayi = kombinasyon(70,5)\n",
        "print(\"\\nC(p-f,s) => C(70,5) => Örnek Uzay:\",olayUzayi)\n",
        "\n",
        "saglamOlasilik = 1-(olayUzayi/ornekUzay)\n",
        "print(\"\\nP(sağlam) => 1-(C(p-f,s)/C(p,s)) => Sağlam olma olasılığı:\",saglamOlasilik)"
      ],
      "execution_count": 19,
      "outputs": [
        {
          "output_type": "stream",
          "text": [
            "C(p,s) => C(100,5) => Örnek Uzay: 75287520.0\n",
            "\n",
            "C(p-f,s) => C(70,5) => Örnek Uzay: 12103014.0\n",
            "\n",
            "P(sağlam) => 1-(C(p-f,s)/C(p,s)) => Sağlam olma olasılığı: 0.8392427589592538\n"
          ],
          "name": "stdout"
        }
      ]
    }
  ]
}