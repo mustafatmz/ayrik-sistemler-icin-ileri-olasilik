{
  "nbformat": 4,
  "nbformat_minor": 0,
  "metadata": {
    "colab": {
      "name": "Untitled0.ipynb",
      "provenance": [],
      "toc_visible": true,
      "authorship_tag": "ABX9TyMpP8OWzAS1Qga5WMrf0tJr",
      "include_colab_link": true
    },
    "kernelspec": {
      "name": "python3",
      "display_name": "Python 3"
    }
  },
  "cells": [
    {
      "cell_type": "markdown",
      "metadata": {
        "id": "view-in-github",
        "colab_type": "text"
      },
      "source": [
        "<a href=\"https://colab.research.google.com/github/mustafatmz/ayrik-sistemler-icin-ileri-olasilik/blob/master/Odev1.ipynb\" target=\"_parent\"><img src=\"https://colab.research.google.com/assets/colab-badge.svg\" alt=\"Open In Colab\"/></a>"
      ]
    },
    {
      "cell_type": "markdown",
      "metadata": {
        "id": "Ij2TDEEuhJ2D",
        "colab_type": "text"
      },
      "source": [
        "Soru: Uluslararası bir konferanstaki katılımcıların en az ikisinin aynı ülkeden gelme olasılığının en az %40 olması için kaç katılımcı olmalıdır?\n",
        "\n",
        "Dünya üzerinde 206 adet ülke bulunmaktadır. İkinci kişinin ilk kişi ile aynı ülkeden gelmeme olasıklığı 205/206 olur. Aynı şekilde üçüncü kişinin diğer iki kişiden farklı bir ülkeden gelme olasılığı 204/206 olur. Bu şekilde koda dökersek;"
      ]
    },
    {
      "cell_type": "code",
      "metadata": {
        "id": "5vkvRm4HibXV",
        "colab_type": "code",
        "colab": {
          "base_uri": "https://localhost:8080/",
          "height": 867
        },
        "outputId": "079cc372-6d5a-49e7-e547-ca0ea65e8824"
      },
      "source": [
        "from pylab import *\n",
        "import numpy as np\n",
        "\n",
        "def ayniulke(n):\n",
        "  a=1\n",
        "  for i in range(n):\n",
        "    a=a*((206-i)/206)\n",
        "  a=round(100*(1-a),4);\n",
        "  return a\n",
        "for n in range(50):\n",
        "  print(n,ayniulke(n));"
      ],
      "execution_count": 8,
      "outputs": [
        {
          "output_type": "stream",
          "text": [
            "0 0\n",
            "1 0.0\n",
            "2 0.4854\n",
            "3 1.4516\n",
            "4 2.8868\n",
            "5 4.7725\n",
            "6 7.0838\n",
            "7 9.7901\n",
            "8 12.8555\n",
            "9 16.2397\n",
            "10 19.8992\n",
            "11 23.7876\n",
            "12 27.8572\n",
            "13 32.0597\n",
            "14 36.3472\n",
            "15 40.6731\n",
            "16 44.993\n",
            "17 49.2654\n",
            "18 53.4522\n",
            "19 57.5195\n",
            "20 61.4376\n",
            "21 65.1815\n",
            "22 68.731\n",
            "23 72.0704\n",
            "24 75.1887\n",
            "25 78.0794\n",
            "26 80.7396\n",
            "27 83.1706\n",
            "28 85.3764\n",
            "29 87.364\n",
            "30 89.1429\n",
            "31 90.724\n",
            "32 92.1199\n",
            "33 93.344\n",
            "34 94.4103\n",
            "35 95.3328\n",
            "36 96.1258\n",
            "37 96.8028\n",
            "38 97.3771\n",
            "39 97.8609\n",
            "40 98.2659\n",
            "41 98.6026\n",
            "42 98.8807\n",
            "43 99.1089\n",
            "44 99.2949\n",
            "45 99.4455\n",
            "46 99.5667\n",
            "47 99.6634\n",
            "48 99.7402\n",
            "49 99.8007\n"
          ],
          "name": "stdout"
        }
      ]
    },
    {
      "cell_type": "markdown",
      "metadata": {
        "id": "hnCb1wgPizP9",
        "colab_type": "text"
      },
      "source": [
        "Kod çıktısından görülebileceği üzere konferansta 15 katılımcı olması durumunda en az ikisinin aynı ülkeden gelmiş olma olasılığı %40.6731 olur."
      ]
    }
  ]
}